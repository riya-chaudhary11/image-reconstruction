{
  "nbformat": 4,
  "nbformat_minor": 0,
  "metadata": {
    "colab": {
      "provenance": [],
      "gpuType": "T4"
    },
    "kernelspec": {
      "name": "python3",
      "display_name": "Python 3"
    },
    "language_info": {
      "name": "python"
    },
    "accelerator": "GPU"
  },
  "cells": [
    {
      "cell_type": "code",
      "source": [
        "!jupyter nbconvert --to python '/content/Copy_of_DL_Model_2_VAE.ipynb' --output vae_model.py\n",
        "!jupyter nbconvert --to python '/content/question_1.ipynb' --output ae_model.py\n",
        "!jupyter nbconvert --to python '/content/maskedAE.ipynb' --output mae_model.py"
      ],
      "metadata": {
        "id": "UwKVJDCKwDOh",
        "outputId": "e52af708-9267-41e0-d113-c921c76d095b",
        "colab": {
          "base_uri": "https://localhost:8080/"
        }
      },
      "execution_count": 1,
      "outputs": [
        {
          "output_type": "stream",
          "name": "stdout",
          "text": [
            "[NbConvertApp] Converting notebook /content/Copy_of_DL_Model_2_VAE.ipynb to python\n",
            "[NbConvertApp] ERROR | Notebook JSON is invalid: Additional properties are not allowed ('metadata' was unexpected)\n",
            "\n",
            "Failed validating 'additionalProperties' in stream:\n",
            "\n",
            "On instance['cells'][15]['outputs'][0]:\n",
            "{'metadata': {'tags': None},\n",
            " 'name': 'stderr',\n",
            " 'output_type': 'stream',\n",
            " 'text': '100%|██████████| 170M/170M [00:04<00:00, 40.1MB/s]\\n'}\n",
            "[NbConvertApp] Writing 11101 bytes to /content/vae_model.py\n",
            "[NbConvertApp] Converting notebook /content/question_1.ipynb to python\n",
            "[NbConvertApp] Writing 10638 bytes to /content/ae_model.py\n",
            "[NbConvertApp] Converting notebook /content/maskedAE.ipynb to python\n",
            "[NbConvertApp] ERROR | Notebook JSON is invalid: Additional properties are not allowed ('metadata' was unexpected)\n",
            "\n",
            "Failed validating 'additionalProperties' in stream:\n",
            "\n",
            "On instance['cells'][13]['outputs'][0]:\n",
            "{'metadata': {'tags': None},\n",
            " 'name': 'stderr',\n",
            " 'output_type': 'stream',\n",
            " 'text': '100%|██████████| 170M/170M [00:03<00:00, 48.8MB/s]\\n'}\n",
            "[NbConvertApp] Writing 10320 bytes to /content/mae_model.py\n"
          ]
        }
      ]
    },
    {
      "cell_type": "code",
      "execution_count": 2,
      "metadata": {
        "id": "Yhb5tPweQpIq"
      },
      "outputs": [],
      "source": [
        "import torch\n",
        "import torch.nn as nn\n",
        "import torchvision.transforms as transforms\n",
        "from torchvision.datasets import MNIST\n",
        "from torch.utils.data import DataLoader\n",
        "import matplotlib.pyplot as plt\n",
        "import numpy as np\n",
        "from skimage.metrics import structural_similarity as ssim\n",
        "from skimage.metrics import peak_signal_noise_ratio as psnr\n",
        "import os\n",
        "import torchvision.datasets as datasets\n",
        "from vae_model import VAE\n",
        "from ae_model import ConvAutoencoder\n",
        "from mae_model import MCAE"
      ]
    },
    {
      "cell_type": "code",
      "source": [
        "transform = transforms.Compose([transforms.ToTensor()])\n",
        "test_data = datasets.CIFAR10(root=\"./data\", train=False, download=True, transform=transform)\n",
        "test_loader = DataLoader(test_data, batch_size=10, shuffle=True)\n",
        "images, _ = next(iter(test_loader))\n",
        "images = images.to(\"cpu\")"
      ],
      "metadata": {
        "id": "6IZil5x_Yl1q",
        "colab": {
          "base_uri": "https://localhost:8080/"
        },
        "outputId": "58491d11-9732-4b11-ee2f-b94b5bf091c0"
      },
      "execution_count": 3,
      "outputs": [
        {
          "output_type": "stream",
          "name": "stderr",
          "text": [
            "100%|██████████| 170M/170M [00:10<00:00, 15.7MB/s]\n"
          ]
        }
      ]
    },
    {
      "cell_type": "code",
      "source": [
        "latent_dim=128"
      ],
      "metadata": {
        "id": "0AMFf0zWZbag"
      },
      "execution_count": 4,
      "outputs": []
    },
    {
      "cell_type": "code",
      "source": [
        "vae_model = VAE(latent_dim)\n",
        "ae_model = ConvAutoencoder()\n",
        "mae_model = MCAE()"
      ],
      "metadata": {
        "id": "YyFpDJV7Zd3A"
      },
      "execution_count": 5,
      "outputs": []
    },
    {
      "cell_type": "code",
      "source": [
        "vae_model.eval()"
      ],
      "metadata": {
        "colab": {
          "base_uri": "https://localhost:8080/"
        },
        "id": "n8jePtY7YqgX",
        "outputId": "be092f43-4ec2-42c5-ca6c-e650a9e18c8b"
      },
      "execution_count": 6,
      "outputs": [
        {
          "output_type": "execute_result",
          "data": {
            "text/plain": [
              "VAE(\n",
              "  (encoder): Sequential(\n",
              "    (0): Conv2d(3, 32, kernel_size=(4, 4), stride=(2, 2), padding=(1, 1))\n",
              "    (1): ReLU()\n",
              "    (2): Conv2d(32, 64, kernel_size=(4, 4), stride=(2, 2), padding=(1, 1))\n",
              "    (3): ReLU()\n",
              "    (4): Conv2d(64, 128, kernel_size=(4, 4), stride=(2, 2), padding=(1, 1))\n",
              "    (5): ReLU()\n",
              "  )\n",
              "  (fc_mu): Linear(in_features=2048, out_features=128, bias=True)\n",
              "  (fc_logvar): Linear(in_features=2048, out_features=128, bias=True)\n",
              "  (decoder_fc): Linear(in_features=128, out_features=2048, bias=True)\n",
              "  (decoder): Sequential(\n",
              "    (0): ConvTranspose2d(128, 64, kernel_size=(4, 4), stride=(2, 2), padding=(1, 1))\n",
              "    (1): ReLU()\n",
              "    (2): ConvTranspose2d(64, 32, kernel_size=(4, 4), stride=(2, 2), padding=(1, 1))\n",
              "    (3): ReLU()\n",
              "    (4): ConvTranspose2d(32, 3, kernel_size=(4, 4), stride=(2, 2), padding=(1, 1))\n",
              "    (5): Sigmoid()\n",
              "  )\n",
              ")"
            ]
          },
          "metadata": {},
          "execution_count": 6
        }
      ]
    },
    {
      "cell_type": "code",
      "source": [
        "ae_model.eval()"
      ],
      "metadata": {
        "colab": {
          "base_uri": "https://localhost:8080/"
        },
        "id": "7kLo8K3UVKeQ",
        "outputId": "d0e283e5-6335-4e14-fc21-81107dcafd46"
      },
      "execution_count": 7,
      "outputs": [
        {
          "output_type": "execute_result",
          "data": {
            "text/plain": [
              "ConvAutoencoder(\n",
              "  (encoder): Sequential(\n",
              "    (0): Conv2d(3, 32, kernel_size=(3, 3), stride=(2, 2), padding=(1, 1))\n",
              "    (1): ReLU()\n",
              "    (2): Conv2d(32, 64, kernel_size=(3, 3), stride=(2, 2), padding=(1, 1))\n",
              "    (3): ReLU()\n",
              "    (4): Conv2d(64, 128, kernel_size=(3, 3), stride=(2, 2), padding=(1, 1))\n",
              "    (5): ReLU()\n",
              "  )\n",
              "  (decoder): Sequential(\n",
              "    (0): ConvTranspose2d(128, 64, kernel_size=(3, 3), stride=(2, 2), padding=(1, 1), output_padding=(1, 1))\n",
              "    (1): ReLU()\n",
              "    (2): ConvTranspose2d(64, 32, kernel_size=(3, 3), stride=(2, 2), padding=(1, 1), output_padding=(1, 1))\n",
              "    (3): ReLU()\n",
              "    (4): ConvTranspose2d(32, 3, kernel_size=(3, 3), stride=(2, 2), padding=(1, 1), output_padding=(1, 1))\n",
              "    (5): Sigmoid()\n",
              "  )\n",
              ")"
            ]
          },
          "metadata": {},
          "execution_count": 7
        }
      ]
    },
    {
      "cell_type": "code",
      "source": [
        "mae_model.eval()"
      ],
      "metadata": {
        "colab": {
          "base_uri": "https://localhost:8080/"
        },
        "id": "uyQ5dohiVMyM",
        "outputId": "256b94b8-8c7d-4440-f2f7-0e7c71c910d2"
      },
      "execution_count": 8,
      "outputs": [
        {
          "output_type": "execute_result",
          "data": {
            "text/plain": [
              "MCAE(\n",
              "  (encoder): Sequential(\n",
              "    (0): Conv2d(3, 64, kernel_size=(3, 3), stride=(1, 1), padding=(1, 1))\n",
              "    (1): ReLU()\n",
              "    (2): Conv2d(64, 128, kernel_size=(3, 3), stride=(2, 2), padding=(1, 1))\n",
              "    (3): ReLU()\n",
              "    (4): Conv2d(128, 256, kernel_size=(3, 3), stride=(2, 2), padding=(1, 1))\n",
              "    (5): ReLU()\n",
              "  )\n",
              "  (decoder): Sequential(\n",
              "    (0): ConvTranspose2d(256, 128, kernel_size=(4, 4), stride=(2, 2), padding=(1, 1))\n",
              "    (1): ReLU()\n",
              "    (2): ConvTranspose2d(128, 64, kernel_size=(4, 4), stride=(2, 2), padding=(1, 1))\n",
              "    (3): ReLU()\n",
              "    (4): Conv2d(64, 3, kernel_size=(3, 3), stride=(1, 1), padding=(1, 1))\n",
              "    (5): Sigmoid()\n",
              "  )\n",
              ")"
            ]
          },
          "metadata": {},
          "execution_count": 8
        }
      ]
    },
    {
      "cell_type": "code",
      "source": [
        "# Unnormalize function\n",
        "def unnormalize(tensor):\n",
        "    mean = torch.tensor([0.4914, 0.4822, 0.4465]).to(tensor.device).view(1, 3, 1, 1)\n",
        "    std = torch.tensor([0.2023, 0.1994, 0.2010]).to(tensor.device).view(1, 3, 1, 1)\n",
        "    return tensor * std + mean"
      ],
      "metadata": {
        "id": "gULQBHnQt5PC"
      },
      "execution_count": 11,
      "outputs": []
    },
    {
      "cell_type": "code",
      "source": [
        "with torch.no_grad():\n",
        "    recon_vae = vae_model(images)[0]  # Assuming VAE returns (reconstruction, mu, logvar)\n",
        "    recon_vae = unnormalize(recon_vae)\n",
        "    recon_ae = ae_model(images)\n",
        "    recon_mae = mae_model(images)"
      ],
      "metadata": {
        "id": "EMyzhaDsYzHX"
      },
      "execution_count": 12,
      "outputs": []
    },
    {
      "cell_type": "code",
      "source": [
        "def compute_metrics(original, reconstruction):\n",
        "    # Convert sparse tensors to dense\n",
        "    if original.is_sparse:\n",
        "        original = original.to_dense()\n",
        "    if reconstruction.is_sparse:\n",
        "        reconstruction = reconstruction.to_dense()\n",
        "\n",
        "    # Remove batch dimension if present\n",
        "    if original.dim() == 4:\n",
        "        original = original[0]\n",
        "    if reconstruction.dim() == 4:\n",
        "        reconstruction = reconstruction[0]\n",
        "\n",
        "    # Convert from (C, H, W) to (H, W, C)\n",
        "    original_np = original.permute(1, 2, 0).cpu().numpy()\n",
        "    reconstructed_np = reconstruction.permute(1, 2, 0).cpu().numpy()\n",
        "\n",
        "    # Handle grayscale images (C=1): squeeze last dim\n",
        "    if original_np.shape[-1] == 1:\n",
        "        original_np = original_np.squeeze(-1)\n",
        "        reconstructed_np = reconstructed_np.squeeze(-1)\n",
        "        channel_axis = None\n",
        "    else:\n",
        "        channel_axis = -1\n",
        "\n",
        "    # Determine suitable win_size (odd <= min(image dim))\n",
        "    min_dim = min(original_np.shape[0], original_np.shape[1])\n",
        "    win_size = min(7, min_dim if min_dim % 2 == 1 else min_dim - 1)\n",
        "\n",
        "    # Compute metrics\n",
        "    mse = np.mean((original_np - reconstructed_np) ** 2)\n",
        "    ssim_val = ssim(original_np, reconstructed_np, win_size=win_size, channel_axis=channel_axis, data_range=original_np.max() - original_np.min())\n",
        "    psnr_val = psnr(original_np, reconstructed_np, data_range=original_np.max() - original_np.min())\n",
        "\n",
        "    return mse, ssim_val, psnr_val"
      ],
      "metadata": {
        "id": "nGyRBsKYY2vJ"
      },
      "execution_count": 13,
      "outputs": []
    },
    {
      "cell_type": "code",
      "source": [
        "idx = 0\n",
        "orig_img = images[idx]\n",
        "vae_img = recon_vae[idx]\n",
        "ae_img = recon_ae[idx]\n",
        "mae_img = recon_mae[idx]"
      ],
      "metadata": {
        "id": "LUx9oGPDY4yq"
      },
      "execution_count": 14,
      "outputs": []
    },
    {
      "cell_type": "code",
      "source": [
        "mse_v, ssim_v, psnr_v = compute_metrics(orig_img, vae_img)\n",
        "mse_a, ssim_a, psnr_a = compute_metrics(orig_img, ae_img)\n",
        "mse_m, ssim_m, psnr_m = compute_metrics(orig_img, mae_img)"
      ],
      "metadata": {
        "id": "gkovaYc7Y604"
      },
      "execution_count": 15,
      "outputs": []
    },
    {
      "cell_type": "code",
      "source": [
        "print(\"\\n--- Quantitative Metrics ---\")\n",
        "print(\"VAE Model:\")\n",
        "print(f\"  MSE:  {mse_v:.4f}\")\n",
        "print(f\"  SSIM: {ssim_v:.4f}\")\n",
        "print(f\"  PSNR: {psnr_v:.4f}\")\n",
        "\n",
        "print(\"\\nAE Model:\")\n",
        "print(f\"  MSE:  {mse_a:.4f}\")\n",
        "print(f\"  SSIM: {ssim_a:.4f}\")\n",
        "print(f\"  PSNR: {psnr_a:.4f}\")\n",
        "\n",
        "print(\"\\nMAE Model:\")\n",
        "print(f\"  MSE:  {mse_m:.4f}\")\n",
        "print(f\"  SSIM: {ssim_m:.4f}\")\n",
        "print(f\"  PSNR: {psnr_m:.4f}\")"
      ],
      "metadata": {
        "colab": {
          "base_uri": "https://localhost:8080/"
        },
        "id": "je8CnRUpZBWC",
        "outputId": "453da114-7361-458c-aaec-dde45ae836e3"
      },
      "execution_count": 16,
      "outputs": [
        {
          "output_type": "stream",
          "name": "stdout",
          "text": [
            "\n",
            "--- Quantitative Metrics ---\n",
            "VAE Model:\n",
            "  MSE:  0.0944\n",
            "  SSIM: 0.0778\n",
            "  PSNR: 7.6467\n",
            "\n",
            "AE Model:\n",
            "  MSE:  0.0584\n",
            "  SSIM: 0.0830\n",
            "  PSNR: 9.7360\n",
            "\n",
            "MAE Model:\n",
            "  MSE:  0.0599\n",
            "  SSIM: 0.0830\n",
            "  PSNR: 9.6222\n"
          ]
        }
      ]
    },
    {
      "cell_type": "code",
      "source": [],
      "metadata": {
        "id": "YXqcBBQJhXi5"
      },
      "execution_count": 18,
      "outputs": []
    }
  ]
}